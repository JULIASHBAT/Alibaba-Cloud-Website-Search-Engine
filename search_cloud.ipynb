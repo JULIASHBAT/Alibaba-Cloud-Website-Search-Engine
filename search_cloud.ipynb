!pip install ipython

#Import necessary modules
from IPython.display import display, HTML
class HTML:
    def __init__(self, code):
        self.code = code

    def render(self):
        return self.code


class CSS:
    def __init__(self, style):
        self.style = style

    def render(self):
        return f'<style>{self.style}</style>'


class JS:
    def __init__(self, code):
        self.code = code

    def render(self):
        return f'<script>{self.code}</script>'


class Main:
    def __init__(self):
        self.css = CSS("""
  body {
    font-family: Arial, sans-serif;
    margin: 0;
    padding: 0;
      background: linear-gradient(4deg, rgb(199 255 252 / 71%) 100%, rgba(72, 255, 244, 0.6979166865) 128.13%, rgba(98, 255, 245, 0.4235678911) 142.19%, rgba(91, 255, 245, 0.4010416865));
      zoom: 80%;
  }
  header {
    background-color: rgb(154 232 225);
    color: white;
    padding: 10px 20px;
    display: flex;
    justify-content: space-between;
    align-items: center;
  }
  footer{
    background: linear-gradient(287.56deg, rgba(30, 233, 221, 0.7099999785) 100%, rgba(72, 255, 244, 0.6979166865) 128.13%, rgba(98, 255, 245, 0.4235678911) 142.19%, rgba(91, 255, 245, 0.4010416865) 154.17%, rgba(110, 255, 246, 0.4637933075) 174.48%, rgba(40, 238, 226, 0.5799999833) 200%);
  }
.logo {
  display: contents;
}

.logo img {
  max-width: 100%;
  width:50px;
  height: auto;
  margin: 0 auto; /* Center the image horizontally within the flex container */
  display: block;
}


.logo:hover {
  opacity: 0.7;
}


  .search-container {
  display: flex;
  flex-direction: column;
  align-items: center;
}

.search-input {
  padding: 10px 40px 10px 10px; /* Added padding on the right for the icon */
  width: 400px;
  font-size: 16px;
  outline: none;
  background-color: #ffffff;
  border-radius: 5rem;
  box-shadow: inset 0.4rem 0.4rem 0.4rem rgba(0, 0, 0, 0.25);
  border: 2px solid rgba(30, 233, 221, 0.71);
  /* Added background image */
  background-image: url('https://i.imgur.com/aoP2Yrs.png');
  background-repeat: no-repeat;
  background-position: right 10px center; /* Adjusted position */
  background-size: 20px; /* Adjusted size */
  margin-bottom:15px;
}

.search-button {
  display: inline-block;
  padding: 10px 20px;
  color: #00867e;
  font-size: 16px;
  border-radius: 5px;
  cursor: pointer;
  background-color: rgba(255, 255, 255, 0.5);
  border: solid 0.1rem rgba(0, 134, 126, 0.38);
  box-sizing: border-box;
  width: auto;
  height: auto;
  margin-top: 10px;
  margin-bottom:95px;
}

  .popular-searches  , .rect-searches {
    color: black;
    font-family: Roboto, 'Source Sans Pro';
    margin-top: 50px;
    text-align: center;
    border: 3px solid #b8dcda;
    border-radius: 30px;
    padding: 4px 10px 23px 10px;
    text-decoration: underline;
  }

  .rect-searches h2 {
        margin-bottom: 42px;
  }

    .popular-searches h2 {
        margin-bottom: 42px;
  }
  .popular-links {
    display: flex;
    justify-content: space-around;
    margin-top: 20px;
  }
  .popular-links a {
    text-decoration: none;
    font-weight: bold;
    padding: 10px 20px;
    border-radius: 5px;
    transition: all 0.3s ease;
    color: #1a0dab;
    font-family: Roboto, 'Source Sans Pro';
    border: 1px solid;
    background-color: white;
  }
  .popular-links a:hover {
    background-color: #008880;
    color: white;
  }
  .buttonContainer {
    display: flex;
    flex-direction: column;
    width:100px;;
}

.button {
    display: block;
    margin: 5px;
    padding: 5px 10px; /* Adjust padding to make buttons smaller */
    font-size: 12px; /* Adjust font size to make buttons smaller */
    width: auto;
}

.search-icon {
  width: auto;
  height: auto;
  margin-top: 75px;
  margin-right: 10px;
  margin-bottom: 15px; /* Space between icon and input */
}
.bookmark-button button {
  background-image: url('https://i.imgur.com/LjnGbbc.png');
  background-size: contain;
  background-color: rgba(255, 255, 255, 0.1899999976);
  width: 30px;
  height: 40px;
  border: none;
  padding: 0;
  cursor: pointer;
}


.bookmark-button button:hover {
  opacity: 0.8;
}

.indexButton {
    display: block;
    margin: 5px;
    padding: 5px 10px; /* Adjust padding to make buttons smaller */
    font-size: 12px; /* Adjust font size to make buttons smaller */
    width: auto;
      background-color: white;
      border-radius: 12px;
}

#content {
    margin-top: 20px;
}

.container {
        display: grid;
        grid-template-columns: 15% 85%; /* Set the width for each column */
        gap: 10px; /* Adjust the gap between columns */
        zoom: 125%;
}

.Scontainer {
      display: flex;
      justify-content: center;
      margin-top: 20px;
    }
    .chart {
      margin-right: 20px;
    }

.div1, .div2 {
            padding: 20px;
        background-color: #27d6cc;
        display: grid;
    place-items: center;
}

#navigationButtons {
      margin-top: 15px;
}



#links {
  /* Center the links div */
  flex: 1;
  display: flex;
  justify-content: center;
}
.admin-button,
    .stats-button {
      position: absolute;
      top: 10px;
    }

    .admin-button {
      right: 20px;
    }

    .stats-button {
      right: 80px;
    }

    .admin-button button{
      width: 40px;
      height: 40px;
      background-image: url('https://i.imgur.com/sOr8qlw.jpg');
      background-size: cover;
      background-repeat: no-repeat;
      background-position: center;
      border: none;
      cursor: pointer;
    }
    .stats-button button {
      width: 40px;
      height: 40px;
      background-image: url('https://i.imgur.com/9yrnqf7.png');
      background-size: cover;
      background-repeat: no-repeat;
      background-position: center;
      border: none;
      cursor: pointer;
    }


    .admin-button button:hover,
    .stats-button button:hover {
      opacity: 0.8;
    }

    .scrollable {
      max-height: 500px;
      overflow-y: auto;
    }

    .homeSearchesContainer{
          max-width: 60%;
          display: block;
          margin: auto;
    }


      #searchResults {
    margin-bottom: 20px;
    padding: 10px;
    border: 1px solid #ccc;
    border-radius: 8px;
    box-shadow: 0 2px 4px rgba(0, 0, 0, 0.1);
  }

  .title {
    font-size: 18px;
    font-weight: bold;
    color: #1a0dab;
    margin-bottom: 5px;
  }

  .description {
    font-size: 14px;
    color: #545454;
    margin-bottom: 10px;
  }

  .link {
    font-size: 14px;
    color: #1a0dab;
    text-decoration: none;
  }

  .searchResultContainer {
    width: 80%;
    margin:auto;
  }

  .searchResultDiv {
        border-bottom: 1px solid #b6e5e2;
    margin-bottom: 25px;
  }
        """)

        self.html = HTML("""
 <!DOCTYPE html>
<html lang="en">
<head>
<meta charset="UTF-8">
<meta name="viewport" content="width=device-width, initial-scale=1.0">
<title>Search Engine</title>
<script src="https://www.gstatic.com/firebasejs/8.6.1/firebase-app.js"></script>
<script src="https://www.gstatic.com/firebasejs/8.6.1/firebase-database.js"></script>
<script src="https://cdn.jsdelivr.net/npm/chart.js"></script>
</head>
<body>
  <header>

    <div class="bookmark-button">
      <button></button>
    </div>
    <div class="admin-button">
      <button id="admin"></button>
    </div>
    <div class="stats-button">
      <!-- Add onclick event to call goToStatsPage() -->
      <button id="stats" onclick="goToStatsPage()"></button>
    </div>
      <div class="logo" onclick="backToHomepage()">
        <img src="https://i.imgur.com/JkKSKGA.png" alt="Back Button" width="50" height="50">
      </div>
  </header>
  <div id="content"></div>
</body>
</html>





        """)

        self.js = JS("""
            const homepage=`<div class="search-container">
    <img src="https://i.imgur.com/HX1DIwk.png" alt="Search Icon" class="search-icon"  width="auto" height="auto">
    <input type="text" class="search-input" id="searchInput" placeholder="">
    <button id="searchButton" class="search-button">Search</button>
  </div>
  <div class="homeSearchesContainer">
  <div class="popular-searches">
    <h2>Popular Searches</h2>
    <div class="popular-links">
      <a href="#">SAAS</a>
      <a href="#">IAAS</a>
      <a href="#">PAAS</a>
      <a href="#">Public Cloud</a>
      <a href="#">Private Cloud</a>
    </div>
  </div>
  <div class="rect-searches">
    <h2>Recent Searches</h2>
    <div class="popular-links">
      <a href="#">Recent Search 1</a>
      <a href="#">Recent Search 2</a>
      <a href="#">Recent Search 3</a>
      <a href="#">Recent Search 4</a>
    </div>
  </div>
  </div>`

const searchDiv=`<div class="search-container">
<img src="https://i.imgur.com/HX1DIwk.png" class="search-icon" alt="Search Icon" >
<input type="text" class="search-input" id="searchInput" placeholder="">
<button id="searchButton" class="search-button">Scloud Search</button>
</div>`

const statsScreen=`  <h1 style="text-align:center">Search Engine Statistics</h1>
<div class="Scontainer">
  <div class="chart">
    <canvas id="searchesByWordChart" width="400" height="400"></canvas>
  </div>
  <div class="chart">
    <canvas id="searchesByUserChart" width="400" height="400"></canvas>
  </div>
</div>
<div class="Scontainer">
  <div class="chart">
    <canvas id="commonWordsChart" width="400" height="400"></canvas>
  </div>
  <div class="chart">
    <canvas id="wordFrequencyChart" width="400" height="400"></canvas>
  </div>
</div>`
//porter stemmer
var stemmer = (function(){
  var step2list = {
      "ational" : "ate",
      "tional" : "tion",
      "enci" : "ence",
      "anci" : "ance",
      "izer" : "ize",
      "bli" : "ble",
      "alli" : "al",
      "entli" : "ent",
      "eli" : "e",
      "ousli" : "ous",
      "ization" : "ize",
      "ation" : "ate",
      "ator" : "ate",
      "alism" : "al",
      "iveness" : "ive",
      "fulness" : "ful",
      "ousness" : "ous",
      "aliti" : "al",
      "iviti" : "ive",
      "biliti" : "ble",
      "logi" : "log"
    },

    step3list = {
      "icate" : "ic",
      "ative" : "",
      "alize" : "al",
      "iciti" : "ic",
      "ical" : "ic",
      "ful" : "",
      "ness" : ""
    },

    c = "[^aeiou]",          // consonant
    v = "[aeiouy]",          // vowel
    C = c + "[^aeiouy]*",    // consonant sequence
    V = v + "[aeiou]*",      // vowel sequence

    mgr0 = "^(" + C + ")?" + V + C,               // [C]VC... is m>0
    meq1 = "^(" + C + ")?" + V + C + "(" + V + ")?$",  // [C]VC[V] is m=1
    mgr1 = "^(" + C + ")?" + V + C + V + C,       // [C]VCVC... is m>1
    s_v = "^(" + C + ")?" + v;                   // vowel in stem

  function dummyDebug() {}

  function realDebug() {
    console.log(Array.prototype.slice.call(arguments).join(' '));
  }

  return function (w, debug) {
    var
      stem,
      suffix,
      firstch,
      re,
      re2,
      re3,
      re4,
      debugFunction,
      origword = w;

    if (debug) {
      debugFunction = realDebug;
    } else {
      debugFunction = dummyDebug;
    }

    if (w.length < 3) { return w; }

    firstch = w.substr(0,1);
    if (firstch == "y") {
      w = firstch.toUpperCase() + w.substr(1);
    }

    // Step 1a
    re = /^(.+?)(ss|i)es$/;
    re2 = /^(.+?)([^s])s$/;

    if (re.test(w)) {
      w = w.replace(re,"$1$2");
      debugFunction('1a',re, w);

    } else if (re2.test(w)) {
      w = w.replace(re2,"$1$2");
      debugFunction('1a',re2, w);
    }

    // Step 1b
    re = /^(.+?)eed$/;
    re2 = /^(.+?)(ed|ing)$/;
    if (re.test(w)) {
      var fp = re.exec(w);
      re = new RegExp(mgr0);
      if (re.test(fp[1])) {
        re = /.$/;
        w = w.replace(re,"");
        debugFunction('1b',re, w);
      }
    } else if (re2.test(w)) {
      var fp = re2.exec(w);
      stem = fp[1];
      re2 = new RegExp(s_v);
      if (re2.test(stem)) {
        w = stem;
        debugFunction('1b', re2, w);

        re2 = /(at|bl|iz)$/;
        re3 = new RegExp("([^aeiouylsz])\\1$");
        re4 = new RegExp("^" + C + v + "[^aeiouwxy]$");

        if (re2.test(w)) {
          w = w + "e";
          debugFunction('1b', re2, w);

        } else if (re3.test(w)) {
          re = /.$/;
          w = w.replace(re,"");
          debugFunction('1b', re3, w);

        } else if (re4.test(w)) {
          w = w + "e";
          debugFunction('1b', re4, w);
        }
      }
    }

    // Step 1c
    re = new RegExp("^(.*" + v + ".*)y$");
    if (re.test(w)) {
      var fp = re.exec(w);
      stem = fp[1];
      w = stem + "i";
      debugFunction('1c', re, w);
    }

    // Step 2
    re = /^(.+?)(ational|tional|enci|anci|izer|bli|alli|entli|eli|ousli|ization|ation|ator|alism|iveness|fulness|ousness|aliti|iviti|biliti|logi)$/;
    if (re.test(w)) {
      var fp = re.exec(w);
      stem = fp[1];
      suffix = fp[2];
      re = new RegExp(mgr0);
      if (re.test(stem)) {
        w = stem + step2list[suffix];
        debugFunction('2', re, w);
      }
    }

    // Step 3
    re = /^(.+?)(icate|ative|alize|iciti|ical|ful|ness)$/;
    if (re.test(w)) {
      var fp = re.exec(w);
      stem = fp[1];
      suffix = fp[2];
      re = new RegExp(mgr0);
      if (re.test(stem)) {
        w = stem + step3list[suffix];
        debugFunction('3', re, w);
      }
    }

    // Step 4
    re = /^(.+?)(al|ance|ence|er|ic|able|ible|ant|ement|ment|ent|ou|ism|ate|iti|ous|ive|ize)$/;
    re2 = /^(.+?)(s|t)(ion)$/;
    if (re.test(w)) {
      var fp = re.exec(w);
      stem = fp[1];
      re = new RegExp(mgr1);
      if (re.test(stem)) {
        w = stem;
        debugFunction('4', re, w);
      }
    } else if (re2.test(w)) {
      var fp = re2.exec(w);
      stem = fp[1] + fp[2];
      re2 = new RegExp(mgr1);
      if (re2.test(stem)) {
        w = stem;
        debugFunction('4', re2, w);
      }
    }

    // Step 5
    re = /^(.+?)e$/;
    if (re.test(w)) {
      var fp = re.exec(w);
      stem = fp[1];
      re = new RegExp(mgr1);
      re2 = new RegExp(meq1);
      re3 = new RegExp("^" + C + v + "[^aeiouwxy]$");
      if (re.test(stem) || (re2.test(stem) && !(re3.test(stem)))) {
        w = stem;
        debugFunction('5', re, re2, re3, w);
      }
    }

    re = /ll$/;
    re2 = new RegExp(mgr1);
    if (re.test(w) && re2.test(w)) {
      re = /.$/;
      w = w.replace(re,"");
      debugFunction('5', re, re2, w);
    }

    // and turn initial Y back to y
    if (firstch == "y") {
      w = firstch.toLowerCase() + w.substr(1);
    }


    return w;
  }
})();
//end porter

function tokenizeString(inputString) {
  // Using regular expression to split the string by non-word characters and digits
  // This will tokenize the string based on spaces, punctuation, etc., while excluding numbers
  return inputString.split(/\W+|\d+/).filter(Boolean);
}

firebaseConfig = {
  databaseURL: "https://search-engine-568ee-default-rtdb.europe-west1.firebasedatabase.app/",
};


  function homepageView(){
    document.getElementById("content").innerHTML = homepage;
    // Load recent searches from localStorage
    let recentSearches = JSON.parse(localStorage.getItem("recentSearches")) || [];
    document.getElementById("admin").addEventListener('click', function(event){adminView();})
    // Update recent searches section
    updateRecentSearches(recentSearches);

    document.querySelector('.popular-searches .popular-links').addEventListener('click', function(event) {
      // Check if the clicked element is an anchor tag
      if (event.target.tagName === 'A') {
        // Prevent the default link behavior
        event.preventDefault();
        // Call the search function with appropriate parameters
        search(1, event.target.innerText);
      }
    });
    document.getElementById("searchButton").addEventListener("click", search);
    document.getElementById("searchInput").addEventListener("keypress", function(event) {
      if (event.key === "Enter") {
        search();
      }
    });
  }

  firebase.initializeApp(firebaseConfig);
  homepageView();

  async function search(type = 0, text = "") {
    // Get the search query
    var searchQuery = document.getElementById("searchInput").value;
    if (type === 1) {
        searchQuery = text;
    }

    // Clear the content of the content div
    document.getElementById("content").innerHTML = "";
    let data = await fetchIndexData();
    terms = Object.entries(data).map(([key, value]) => ({ key, value }));

    let tokenizedQuery = tokenizeString(searchQuery.toLowerCase());
    if (tokenizedQuery.length != 0) {
        // Save the search query in recent searches
        saveRecentSearch(searchQuery);
    }
    let stemmedQuery = tokenizedQuery.map((word) => stemmer(word));
    const links = await fetchAndMergePages(stemmedQuery);

    // Create HTML for displaying search results
    var resultsHtml = `<div class="searchResultContainer"><h2>Search Results</h2><div class="scrollable"><div id="searchResults"></div></div></div>`;

    // Display search results in the content div
    document.getElementById("content").innerHTML = searchDiv + resultsHtml;
    createSearchResultElements(links);


    // Add event listeners for search button and Enter key press
    document.getElementById("searchButton").addEventListener("click", search);
    document.getElementById("searchInput").addEventListener("keypress", function(event) {
        if (event.key === "Enter") {
            search();
        }
    });

    // Set the search input value
    document.getElementById("searchInput").value = searchQuery;
}


  // Function to dynamically create search result elements
function createSearchResultElements(results) {
  // Get the search results container
  const searchResultsContainer = document.getElementById('searchResults');

  // Clear previous search results
  searchResultsContainer.innerHTML = '';

  // Create and append search result elements
  results.forEach(result => {
    const resultElement = document.createElement('div');
    resultElement.className = "searchResultDiv";
    const titleElement = document.createElement('a');
    titleElement.classList.add("title");
    titleElement.href = result.value.link; // Set the URL of the search result
    titleElement.textContent = result.value.title; // Set the title of the search result
    titleElement.target="_blank";
    resultElement.appendChild(titleElement); // Append the title to the result element

    const descriptionElement = document.createElement('p');
    descriptionElement.textContent = result.value.description; // Set the description of the search result
    descriptionElement.classList.add("description");

    resultElement.appendChild(descriptionElement); // Append the description to the result element

    searchResultsContainer.appendChild(resultElement); // Append the result element to the container
  });
}


  function saveRecentSearch(searchQuery) {
    let recentSearches = getRecentSearches();

    // Add the new search query to the recent searches
    recentSearches.unshift(searchQuery);

    // Ensure only 5 recent searches are stored
    if (recentSearches.length > 5) {
      recentSearches.pop();
    }

    // Save recent searches to localStorage
    localStorage.setItem("recentSearches", JSON.stringify(recentSearches));
  }

  function getRecentSearches() {
    return JSON.parse(localStorage.getItem("recentSearches")) || [];
  }

  function updateRecentSearches(recentSearches) {
    let recentSearchesContainer = document.querySelector(".rect-searches .popular-links");
    recentSearchesContainer.innerHTML = "";
    let id=1;
    recentSearches.forEach(function(searchQuery) {
      let link = document.createElement("a");
      link.id=id;
      id++;
      link.href = "#";
      link.textContent = searchQuery;
      link.addEventListener("click", function(event){search(1,searchQuery)});
      recentSearchesContainer.appendChild(link);
    });
  }

  function backToHomepage(){
    homepageView();
  }





var buttonsPerPage = 12;
var currentPage = 1;
var totalButtons = 50; // Total number of buttons

let terms;
let currentTerm;
async function adminView(){
  currentPage = 1;
  var adminContainer = document.getElementById('content');
  adminContainer.innerHTML = `
  <div class="container">
    <div class="div1">
          <div  id="terms"></div>

                  <div id="navigationButtons">
                  <button id="prev" onclick="prevPage()">prev</button>
                  <button id="next" onclick="nextPage()">next</button>
              </div>
    </div>

            <div class="div2" id="links"></div>
  </div>
   `;
  let data= await fetchIndexData();
  terms = Object.entries(data).map(([key, value]) => ({ key, value }));
  totalButtons=terms.length;
  console.log(terms);
  createButtons();

}

function fetchIndexData() {
  return new Promise((resolve, reject) => {
    const database = firebase.database().ref("/index");

    database.once('value')
      .then(snapshot => {
        const data = snapshot.val();
        resolve(data); // Resolve the promise with data
      })
      .catch(error => {
        console.error('Error fetching data:', error);
        reject(error); // Reject the promise with error
      });
  });
}


async function fetchAndMergePages(stemmedQuery) {
  const uniquePages = new Set();

  // Iterate over each word in the stemmed query
  for (const word of stemmedQuery) {
      // Fetch pages for the current word
      const pages = await fetchTermPages(word);
      let pagesArray=Object.entries(pages).map(([key, value]) => ({ key, value }))
      console.log(pagesArray);
      // Merge the fetched pages with the uniquePages Set
      pagesArray.forEach(page => uniquePages.add(page));
  }

  // Convert the Set back to an array
  const mergedPages = Array.from(uniquePages);
  const uniqueArray = Array.from(new Set(mergedPages.map(obj => obj.key)))
  .map(key => mergedPages.find(obj => obj.key === key));

  return uniqueArray;
}





function fetchTermPages(term) {
  let termLinks=[];
  for (var i = 0; i < terms.length; i++) {
    if (terms[i].value.term == term) {
      termLinks = terms[i].value.DocIDs;
      break; // Exit loop once termLinks are found
    }
  }

  return new Promise((resolve, reject) => {
    const database = firebase.database().ref("/pages");

    database.once('value')
      .then(snapshot => {
        const data = snapshot.val();
        // Filter data based on termLinks
        const filteredPages = {};
        termLinks.forEach(docID => {
          if (data.hasOwnProperty(docID)) {
            filteredPages[docID] = data[docID];
          }
        });
        resolve(filteredPages); // Resolve the promise with filteredPages
      })
      .catch(error => {
        console.error('Error fetching data:', error);
        reject(error); // Reject the promise with error
      });
  });
}


function createButtons() {
    var buttonContainer = document.getElementById('terms');
    buttonContainer.innerHTML = '';
    var startIndex = (currentPage - 1) * buttonsPerPage;
    var endIndex = Math.min(startIndex + buttonsPerPage, totalButtons);

    var container = document.createElement('div');
    container.className = 'buttonContainer';

    for (var i = startIndex; i < endIndex; i++) {
        var button = document.createElement('button');
        button.className = 'indexButton';
        let term=terms[i].value.term;
        button.innerText =  (term);
        button.addEventListener("click", function(event){displayLinks(term)});
        container.appendChild(button);
    }

    buttonContainer.appendChild(container);

}
function createLinksList(listItems, targetDivId) {
  // Create a new ul element
  var title = document.createElement('h2');
  title.textContent = currentTerm + ":";
  title.id = "termTitle";
  var ul = document.createElement('ul');

  var deleteTermbutton = document.createElement('button');
  deleteTermbutton.textContent = 'delete all';
  deleteTermbutton.id = 'delete all';
  deleteTermbutton.addEventListener('click', function(event) { deleteTerm(); });

  let id = 0;
  listItems.forEach(function(item) {
      var li = document.createElement('li');
      li.textContent = item.value.link;
      let linkID = "link " + id;
      li.id = linkID;
      var button = document.createElement('button');
      button.textContent = 'delete';
      button.addEventListener('click', function(event) { deleteLink(item.key, item.value.link, linkID); });
      li.appendChild(button);
      ul.appendChild(li);
      id++;
  });

  var targetDiv = document.getElementById(targetDivId);
  targetDiv.innerHTML = '';

  var scrollableDiv = document.createElement('div');
  scrollableDiv.className = 'scrollable'; // Add a class for styling

  scrollableDiv.appendChild(deleteTermbutton);
  scrollableDiv.appendChild(title);
  scrollableDiv.appendChild(ul);

  targetDiv.appendChild(scrollableDiv);
}


function deleteLink(id,link,linkID){
  const database = firebase.database();

  // Reference to the 'index' node in the database
  const indexRef = database.ref('/index');

  // Query the index node to find the entry with the specified term
  indexRef.orderByChild('term').equalTo(currentTerm).once('value', snapshot => {
    snapshot.forEach(childSnapshot => {
      const key = childSnapshot.key;
      const entry = childSnapshot.val();

      // Check if the entry has the specified docId in its DocIDs array
      if (entry.DocIDs && entry.DocIDs.includes(id)) {
        // Remove the id from the DocIDs array
        const updatedDocIDs = entry.DocIDs.filter(docId => docId !== id);

        // Update the entry in the database
        indexRef.child(key).update({ DocIDs: updatedDocIDs })
          .then(() => {
            console.log(`Removed docId ${id} from term ${currentTerm}`);
            let linkElement= document.getElementById(linkID);
            linkElement.remove();
            let termLinks;
            for (var i = 0; i < terms.length; i++) {
              if (terms[i].value.term == currentTerm) {
                terms[i].value.DocIDs=updatedDocIDs;
                if(updatedDocIDs.length===0){
                  terms.splice(i, 1); // Remove the term at index i
                  totalButtons=terms.length;
                }
                break; // Exit loop once termLinks are found
              }
            }
            if (updatedDocIDs.length === 0) {
              removeEntryFromIndex(key);//remove term from db
              var totalPages = Math.ceil(totalButtons / buttonsPerPage);
              if (currentPage > totalPages) {
                  currentPage--;
              }
              document.getElementById("termTitle").remove();//remove title of the term
              document.getElementById("delete all").remove();//remove button of the term
              createButtons();//update display
            }
          })
          .catch(error => {
            console.error('Error removing docId:', error);
          });
      } else {
        console.log(`DocId ${id} not found in term ${currentTerm}`);
      }
    });
  })
  .catch(error => {
    console.error('Error fetching data:', error);
  });
}

function deleteTerm(){
  for (var i = 0; i < terms.length; i++) {
    if (terms[i].value.term == currentTerm) {
        removeEntryFromIndex(terms[i].key);//remove term from db
        terms.splice(i, 1); // Remove the term at index i
        totalButtons=terms.length;
      break; // Exit loop once termLinks are found
    }
  }
    var totalPages = Math.ceil(totalButtons / buttonsPerPage);
    if (currentPage > totalPages) {
        currentPage--;
    }
    var targetDiv = document.getElementById("links");
    // Clear the target div before loading the list
    targetDiv.innerHTML = '';
    createButtons();//update display
}

function removeEntryFromIndex(key) {
  const database = firebase.database();
  const indexRef = database.ref('/index');

  // Remove the entry with the specified key
  indexRef.child(key).remove()
    .then(() => {
      console.log(`Entry with key ${key} removed from index.`);
    })
    .catch(error => {
      console.error('Error removing entry from index:', error);
    });
}

async function displayLinks(term){
  currentTerm=term;
  let data= await fetchTermPages(term);
  let links=Object.entries(data).map(([key, value]) => ({ key, value }));
  createLinksList(links,"links");
}

function prevPage() {
    if (currentPage > 1) {
        currentPage--;
        createButtons();
    }
    else{
      alert("you're in the first page");
    }
}

function nextPage() {
    var totalPages = Math.ceil(totalButtons / buttonsPerPage);
    if (currentPage < totalPages) {
        currentPage++;
        createButtons();
    }
	  else{
      alert("you're in the last page");
    }
}

const searchData = {
  searchesByWord: {
    SAAS: 100,
    IAAS: 150,
    PAAS: 120,
    PublicCloud: 80,
    PrivateCloud: 90
  },
  searchesByUser: {
    User1: 50,
    User2: 70,
    User3: 30,
    User4: 90,
    User5: 110
  },
  commonWords: {
    "Cloud": 300,
    "Service": 250,
    "Data": 200,
    "Security": 180,
    "Platform": 150
  },
  wordFrequency: [
    { word: "Cloud", frequency: 300 },
    { word: "Service", frequency: 250 },
    { word: "Data", frequency: 200 },
    { word: "Security", frequency: 180 },
    { word: "Platform", frequency: 150 }
  ]
};

// Function to convert object to array for chart data
function objectToArray(obj) {
  return Object.keys(obj).map(key => ({ label: key, value: obj[key] }));
}

// Function to get data for word frequency chart
function getWordFrequencyChartData(data) {
  return data.map(item => item.frequency);
}

// Function to create charts
function createCharts() {
  // Chart configuration
  const config = {
    type: 'bar',
    data: {
      labels: objectToArray(searchData.searchesByWord).map(item => item.label),
      datasets: [{
        label: 'Number of Searches',
        data: objectToArray(searchData.searchesByWord).map(item => item.value),
        backgroundColor: 'rgba(255, 99, 132, 0.2)',
        borderColor: 'rgba(255, 99, 132, 1)',
        borderWidth: 1
      }]
    },
    options: {
      scales: {
        y: {
          beginAtZero: true
        }
      }
    }
  };

  // Create Charts
  var searchesByWordCtx = document.getElementById('searchesByWordChart').getContext('2d');
  new Chart(searchesByWordCtx, config);

  // Searches By User
  const searchesByUserConfig = {
    type: 'pie',
    data: {
      labels: objectToArray(searchData.searchesByUser).map(item => item.label),
      datasets: [{
        label: 'Number of Searches',
        data: objectToArray(searchData.searchesByUser).map(item => item.value),
        backgroundColor: [
          'rgba(255, 99, 132, 0.2)',
          'rgba(54, 162, 235, 0.2)',
          'rgba(255, 206, 86, 0.2)',
          'rgba(75, 192, 192, 0.2)',
          'rgba(153, 102, 255, 0.2)',
        ],
        borderColor: [
          'rgba(255, 99, 132, 1)',
          'rgba(54, 162, 235, 1)',
          'rgba(255, 206, 86, 1)',
          'rgba(75, 192, 192, 1)',
          'rgba(153, 102, 255, 1)',
        ],
        borderWidth: 1
      }]
    },
    options: {
      scales: {
        y: {
          beginAtZero: true
        }
      }
    }
  };

  var searchesByUserCtx = document.getElementById('searchesByUserChart').getContext('2d');
  new Chart(searchesByUserCtx, searchesByUserConfig);

  // Common Words
  const commonWordsConfig = {
    type: 'doughnut',
    data: {
      labels: objectToArray(searchData.commonWords).map(item => item.label),
      datasets: [{
        label: 'Word Frequency',
        data: objectToArray(searchData.commonWords).map(item => item.value),
        backgroundColor: [
          'rgba(255, 99, 132, 0.2)',
          'rgba(54, 162, 235, 0.2)',
          'rgba(255, 206, 86, 0.2)',
          'rgba(75, 192, 192, 0.2)',
          'rgba(153, 102, 255, 0.2)',
        ],
        borderColor: [
          'rgba(255, 99, 132, 1)',
          'rgba(54, 162, 235, 1)',
          'rgba(255, 206, 86, 1)',
          'rgba(75, 192, 192, 1)',
          'rgba(153, 102, 255, 1)',
        ],
        borderWidth: 1
      }]
    },
    options: {
      scales: {
        y: {
          beginAtZero: true
        }
      }
    }
  };

  var commonWordsCtx = document.getElementById('commonWordsChart').getContext('2d');
  new Chart(commonWordsCtx, commonWordsConfig);

  // Word Frequency
  const wordFrequencyConfig = {
    type: 'bar',
    data: {
      labels: searchData.wordFrequency.map(item => item.word),
      datasets: [{
        label: 'Word Frequency',
        data: getWordFrequencyChartData(searchData.wordFrequency),
        backgroundColor: 'rgba(255, 99, 132, 0.2)',
        borderColor: 'rgba(255, 99, 132, 1)',
        borderWidth: 1
      }]
    },
    options: {
      scales: {
        y: {
          beginAtZero: true
        }
      }
    }
  };

  var wordFrequencyCtx = document.getElementById('wordFrequencyChart').getContext('2d');
  new Chart(wordFrequencyCtx, wordFrequencyConfig);
}


function goToStatsPage() {
  document.getElementById("content").innerHTML=statsScreen;
  createCharts();
}

        """)

    def render(self):
        output = self.css.render()
        output += self.html.render()
        output += self.js.render()
        return output


# Creating an instance of the Main class
main = Main()

# Rendering the output
output = main.render()

# Displaying the HTML page
from IPython.display import display, HTML
display(HTML(output))
